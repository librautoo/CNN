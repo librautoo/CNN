{
 "cells": [
  {
   "cell_type": "code",
   "execution_count": 1,
   "id": "0549fb1e",
   "metadata": {
    "_cell_guid": "b1076dfc-b9ad-4769-8c92-a6c4dae69d19",
    "_uuid": "8f2839f25d086af736a60e9eeb907d3b93b6e0e5",
    "execution": {
     "iopub.execute_input": "2024-07-10T14:16:47.561522Z",
     "iopub.status.busy": "2024-07-10T14:16:47.561101Z",
     "iopub.status.idle": "2024-07-10T14:17:04.125275Z",
     "shell.execute_reply": "2024-07-10T14:17:04.124117Z"
    },
    "papermill": {
     "duration": 16.57872,
     "end_time": "2024-07-10T14:17:04.128123",
     "exception": false,
     "start_time": "2024-07-10T14:16:47.549403",
     "status": "completed"
    },
    "tags": []
   },
   "outputs": [
    {
     "name": "stderr",
     "output_type": "stream",
     "text": [
      "2024-07-10 14:16:52.236365: E external/local_xla/xla/stream_executor/cuda/cuda_dnn.cc:9261] Unable to register cuDNN factory: Attempting to register factory for plugin cuDNN when one has already been registered\n",
      "2024-07-10 14:16:52.236519: E external/local_xla/xla/stream_executor/cuda/cuda_fft.cc:607] Unable to register cuFFT factory: Attempting to register factory for plugin cuFFT when one has already been registered\n",
      "2024-07-10 14:16:52.397234: E external/local_xla/xla/stream_executor/cuda/cuda_blas.cc:1515] Unable to register cuBLAS factory: Attempting to register factory for plugin cuBLAS when one has already been registered\n"
     ]
    }
   ],
   "source": [
    "import numpy as np \n",
    "import pandas as pd \n",
    "import seaborn as sns\n",
    "import matplotlib.pyplot as plt\n",
    "import math\n",
    "import tensorflow as tf\n",
    "from tensorflow.keras.utils import to_categorical\n",
    "from sklearn.model_selection import train_test_split\n",
    "from sklearn.metrics import confusion_matrix\n",
    "from keras.models import Sequential\n",
    "from keras.layers import Dense, Dropout, Flatten, Conv2D, MaxPool2D\n",
    "from keras.optimizers import Adam\n",
    "from tensorflow.keras.preprocessing.image import ImageDataGenerator\n",
    "\n"
   ]
  },
  {
   "cell_type": "code",
   "execution_count": 2,
   "id": "40b2e907",
   "metadata": {
    "execution": {
     "iopub.execute_input": "2024-07-10T14:17:04.150353Z",
     "iopub.status.busy": "2024-07-10T14:17:04.149161Z",
     "iopub.status.idle": "2024-07-10T14:17:08.348967Z",
     "shell.execute_reply": "2024-07-10T14:17:08.347721Z"
    },
    "papermill": {
     "duration": 4.214167,
     "end_time": "2024-07-10T14:17:08.352326",
     "exception": false,
     "start_time": "2024-07-10T14:17:04.138159",
     "status": "completed"
    },
    "tags": []
   },
   "outputs": [
    {
     "data": {
      "text/plain": [
       "(42000, 785)"
      ]
     },
     "execution_count": 2,
     "metadata": {},
     "output_type": "execute_result"
    }
   ],
   "source": [
    "# import train data\n",
    "train = pd.read_csv(\"/kaggle/input/digit-recognizer/train.csv\")\n",
    "train.shape\n"
   ]
  },
  {
   "cell_type": "code",
   "execution_count": 3,
   "id": "675cfff8",
   "metadata": {
    "execution": {
     "iopub.execute_input": "2024-07-10T14:17:08.376102Z",
     "iopub.status.busy": "2024-07-10T14:17:08.375124Z",
     "iopub.status.idle": "2024-07-10T14:17:08.404647Z",
     "shell.execute_reply": "2024-07-10T14:17:08.403531Z"
    },
    "papermill": {
     "duration": 0.043507,
     "end_time": "2024-07-10T14:17:08.407323",
     "exception": false,
     "start_time": "2024-07-10T14:17:08.363816",
     "status": "completed"
    },
    "tags": []
   },
   "outputs": [
    {
     "data": {
      "text/html": [
       "<div>\n",
       "<style scoped>\n",
       "    .dataframe tbody tr th:only-of-type {\n",
       "        vertical-align: middle;\n",
       "    }\n",
       "\n",
       "    .dataframe tbody tr th {\n",
       "        vertical-align: top;\n",
       "    }\n",
       "\n",
       "    .dataframe thead th {\n",
       "        text-align: right;\n",
       "    }\n",
       "</style>\n",
       "<table border=\"1\" class=\"dataframe\">\n",
       "  <thead>\n",
       "    <tr style=\"text-align: right;\">\n",
       "      <th></th>\n",
       "      <th>label</th>\n",
       "      <th>pixel0</th>\n",
       "      <th>pixel1</th>\n",
       "      <th>pixel2</th>\n",
       "      <th>pixel3</th>\n",
       "      <th>pixel4</th>\n",
       "      <th>pixel5</th>\n",
       "      <th>pixel6</th>\n",
       "      <th>pixel7</th>\n",
       "      <th>pixel8</th>\n",
       "      <th>...</th>\n",
       "      <th>pixel774</th>\n",
       "      <th>pixel775</th>\n",
       "      <th>pixel776</th>\n",
       "      <th>pixel777</th>\n",
       "      <th>pixel778</th>\n",
       "      <th>pixel779</th>\n",
       "      <th>pixel780</th>\n",
       "      <th>pixel781</th>\n",
       "      <th>pixel782</th>\n",
       "      <th>pixel783</th>\n",
       "    </tr>\n",
       "  </thead>\n",
       "  <tbody>\n",
       "    <tr>\n",
       "      <th>0</th>\n",
       "      <td>1</td>\n",
       "      <td>0</td>\n",
       "      <td>0</td>\n",
       "      <td>0</td>\n",
       "      <td>0</td>\n",
       "      <td>0</td>\n",
       "      <td>0</td>\n",
       "      <td>0</td>\n",
       "      <td>0</td>\n",
       "      <td>0</td>\n",
       "      <td>...</td>\n",
       "      <td>0</td>\n",
       "      <td>0</td>\n",
       "      <td>0</td>\n",
       "      <td>0</td>\n",
       "      <td>0</td>\n",
       "      <td>0</td>\n",
       "      <td>0</td>\n",
       "      <td>0</td>\n",
       "      <td>0</td>\n",
       "      <td>0</td>\n",
       "    </tr>\n",
       "    <tr>\n",
       "      <th>1</th>\n",
       "      <td>0</td>\n",
       "      <td>0</td>\n",
       "      <td>0</td>\n",
       "      <td>0</td>\n",
       "      <td>0</td>\n",
       "      <td>0</td>\n",
       "      <td>0</td>\n",
       "      <td>0</td>\n",
       "      <td>0</td>\n",
       "      <td>0</td>\n",
       "      <td>...</td>\n",
       "      <td>0</td>\n",
       "      <td>0</td>\n",
       "      <td>0</td>\n",
       "      <td>0</td>\n",
       "      <td>0</td>\n",
       "      <td>0</td>\n",
       "      <td>0</td>\n",
       "      <td>0</td>\n",
       "      <td>0</td>\n",
       "      <td>0</td>\n",
       "    </tr>\n",
       "    <tr>\n",
       "      <th>2</th>\n",
       "      <td>1</td>\n",
       "      <td>0</td>\n",
       "      <td>0</td>\n",
       "      <td>0</td>\n",
       "      <td>0</td>\n",
       "      <td>0</td>\n",
       "      <td>0</td>\n",
       "      <td>0</td>\n",
       "      <td>0</td>\n",
       "      <td>0</td>\n",
       "      <td>...</td>\n",
       "      <td>0</td>\n",
       "      <td>0</td>\n",
       "      <td>0</td>\n",
       "      <td>0</td>\n",
       "      <td>0</td>\n",
       "      <td>0</td>\n",
       "      <td>0</td>\n",
       "      <td>0</td>\n",
       "      <td>0</td>\n",
       "      <td>0</td>\n",
       "    </tr>\n",
       "    <tr>\n",
       "      <th>3</th>\n",
       "      <td>4</td>\n",
       "      <td>0</td>\n",
       "      <td>0</td>\n",
       "      <td>0</td>\n",
       "      <td>0</td>\n",
       "      <td>0</td>\n",
       "      <td>0</td>\n",
       "      <td>0</td>\n",
       "      <td>0</td>\n",
       "      <td>0</td>\n",
       "      <td>...</td>\n",
       "      <td>0</td>\n",
       "      <td>0</td>\n",
       "      <td>0</td>\n",
       "      <td>0</td>\n",
       "      <td>0</td>\n",
       "      <td>0</td>\n",
       "      <td>0</td>\n",
       "      <td>0</td>\n",
       "      <td>0</td>\n",
       "      <td>0</td>\n",
       "    </tr>\n",
       "    <tr>\n",
       "      <th>4</th>\n",
       "      <td>0</td>\n",
       "      <td>0</td>\n",
       "      <td>0</td>\n",
       "      <td>0</td>\n",
       "      <td>0</td>\n",
       "      <td>0</td>\n",
       "      <td>0</td>\n",
       "      <td>0</td>\n",
       "      <td>0</td>\n",
       "      <td>0</td>\n",
       "      <td>...</td>\n",
       "      <td>0</td>\n",
       "      <td>0</td>\n",
       "      <td>0</td>\n",
       "      <td>0</td>\n",
       "      <td>0</td>\n",
       "      <td>0</td>\n",
       "      <td>0</td>\n",
       "      <td>0</td>\n",
       "      <td>0</td>\n",
       "      <td>0</td>\n",
       "    </tr>\n",
       "  </tbody>\n",
       "</table>\n",
       "<p>5 rows × 785 columns</p>\n",
       "</div>"
      ],
      "text/plain": [
       "   label  pixel0  pixel1  pixel2  pixel3  pixel4  pixel5  pixel6  pixel7  \\\n",
       "0      1       0       0       0       0       0       0       0       0   \n",
       "1      0       0       0       0       0       0       0       0       0   \n",
       "2      1       0       0       0       0       0       0       0       0   \n",
       "3      4       0       0       0       0       0       0       0       0   \n",
       "4      0       0       0       0       0       0       0       0       0   \n",
       "\n",
       "   pixel8  ...  pixel774  pixel775  pixel776  pixel777  pixel778  pixel779  \\\n",
       "0       0  ...         0         0         0         0         0         0   \n",
       "1       0  ...         0         0         0         0         0         0   \n",
       "2       0  ...         0         0         0         0         0         0   \n",
       "3       0  ...         0         0         0         0         0         0   \n",
       "4       0  ...         0         0         0         0         0         0   \n",
       "\n",
       "   pixel780  pixel781  pixel782  pixel783  \n",
       "0         0         0         0         0  \n",
       "1         0         0         0         0  \n",
       "2         0         0         0         0  \n",
       "3         0         0         0         0  \n",
       "4         0         0         0         0  \n",
       "\n",
       "[5 rows x 785 columns]"
      ]
     },
     "execution_count": 3,
     "metadata": {},
     "output_type": "execute_result"
    }
   ],
   "source": [
    "train.head()"
   ]
  },
  {
   "cell_type": "code",
   "execution_count": 4,
   "id": "7f4c2362",
   "metadata": {
    "execution": {
     "iopub.execute_input": "2024-07-10T14:17:08.430370Z",
     "iopub.status.busy": "2024-07-10T14:17:08.429350Z",
     "iopub.status.idle": "2024-07-10T14:17:10.910773Z",
     "shell.execute_reply": "2024-07-10T14:17:10.909606Z"
    },
    "papermill": {
     "duration": 2.495626,
     "end_time": "2024-07-10T14:17:10.913414",
     "exception": false,
     "start_time": "2024-07-10T14:17:08.417788",
     "status": "completed"
    },
    "tags": []
   },
   "outputs": [
    {
     "data": {
      "text/plain": [
       "(28000, 784)"
      ]
     },
     "execution_count": 4,
     "metadata": {},
     "output_type": "execute_result"
    }
   ],
   "source": [
    "# import test data\n",
    "test = pd.read_csv(\"/kaggle/input/digit-recognizer/test.csv\")\n",
    "test.shape\n"
   ]
  },
  {
   "cell_type": "code",
   "execution_count": 5,
   "id": "3e192aab",
   "metadata": {
    "execution": {
     "iopub.execute_input": "2024-07-10T14:17:10.936710Z",
     "iopub.status.busy": "2024-07-10T14:17:10.936303Z",
     "iopub.status.idle": "2024-07-10T14:17:10.955955Z",
     "shell.execute_reply": "2024-07-10T14:17:10.954908Z"
    },
    "papermill": {
     "duration": 0.034067,
     "end_time": "2024-07-10T14:17:10.958338",
     "exception": false,
     "start_time": "2024-07-10T14:17:10.924271",
     "status": "completed"
    },
    "tags": []
   },
   "outputs": [
    {
     "data": {
      "text/html": [
       "<div>\n",
       "<style scoped>\n",
       "    .dataframe tbody tr th:only-of-type {\n",
       "        vertical-align: middle;\n",
       "    }\n",
       "\n",
       "    .dataframe tbody tr th {\n",
       "        vertical-align: top;\n",
       "    }\n",
       "\n",
       "    .dataframe thead th {\n",
       "        text-align: right;\n",
       "    }\n",
       "</style>\n",
       "<table border=\"1\" class=\"dataframe\">\n",
       "  <thead>\n",
       "    <tr style=\"text-align: right;\">\n",
       "      <th></th>\n",
       "      <th>pixel0</th>\n",
       "      <th>pixel1</th>\n",
       "      <th>pixel2</th>\n",
       "      <th>pixel3</th>\n",
       "      <th>pixel4</th>\n",
       "      <th>pixel5</th>\n",
       "      <th>pixel6</th>\n",
       "      <th>pixel7</th>\n",
       "      <th>pixel8</th>\n",
       "      <th>pixel9</th>\n",
       "      <th>...</th>\n",
       "      <th>pixel774</th>\n",
       "      <th>pixel775</th>\n",
       "      <th>pixel776</th>\n",
       "      <th>pixel777</th>\n",
       "      <th>pixel778</th>\n",
       "      <th>pixel779</th>\n",
       "      <th>pixel780</th>\n",
       "      <th>pixel781</th>\n",
       "      <th>pixel782</th>\n",
       "      <th>pixel783</th>\n",
       "    </tr>\n",
       "  </thead>\n",
       "  <tbody>\n",
       "    <tr>\n",
       "      <th>0</th>\n",
       "      <td>0</td>\n",
       "      <td>0</td>\n",
       "      <td>0</td>\n",
       "      <td>0</td>\n",
       "      <td>0</td>\n",
       "      <td>0</td>\n",
       "      <td>0</td>\n",
       "      <td>0</td>\n",
       "      <td>0</td>\n",
       "      <td>0</td>\n",
       "      <td>...</td>\n",
       "      <td>0</td>\n",
       "      <td>0</td>\n",
       "      <td>0</td>\n",
       "      <td>0</td>\n",
       "      <td>0</td>\n",
       "      <td>0</td>\n",
       "      <td>0</td>\n",
       "      <td>0</td>\n",
       "      <td>0</td>\n",
       "      <td>0</td>\n",
       "    </tr>\n",
       "    <tr>\n",
       "      <th>1</th>\n",
       "      <td>0</td>\n",
       "      <td>0</td>\n",
       "      <td>0</td>\n",
       "      <td>0</td>\n",
       "      <td>0</td>\n",
       "      <td>0</td>\n",
       "      <td>0</td>\n",
       "      <td>0</td>\n",
       "      <td>0</td>\n",
       "      <td>0</td>\n",
       "      <td>...</td>\n",
       "      <td>0</td>\n",
       "      <td>0</td>\n",
       "      <td>0</td>\n",
       "      <td>0</td>\n",
       "      <td>0</td>\n",
       "      <td>0</td>\n",
       "      <td>0</td>\n",
       "      <td>0</td>\n",
       "      <td>0</td>\n",
       "      <td>0</td>\n",
       "    </tr>\n",
       "    <tr>\n",
       "      <th>2</th>\n",
       "      <td>0</td>\n",
       "      <td>0</td>\n",
       "      <td>0</td>\n",
       "      <td>0</td>\n",
       "      <td>0</td>\n",
       "      <td>0</td>\n",
       "      <td>0</td>\n",
       "      <td>0</td>\n",
       "      <td>0</td>\n",
       "      <td>0</td>\n",
       "      <td>...</td>\n",
       "      <td>0</td>\n",
       "      <td>0</td>\n",
       "      <td>0</td>\n",
       "      <td>0</td>\n",
       "      <td>0</td>\n",
       "      <td>0</td>\n",
       "      <td>0</td>\n",
       "      <td>0</td>\n",
       "      <td>0</td>\n",
       "      <td>0</td>\n",
       "    </tr>\n",
       "    <tr>\n",
       "      <th>3</th>\n",
       "      <td>0</td>\n",
       "      <td>0</td>\n",
       "      <td>0</td>\n",
       "      <td>0</td>\n",
       "      <td>0</td>\n",
       "      <td>0</td>\n",
       "      <td>0</td>\n",
       "      <td>0</td>\n",
       "      <td>0</td>\n",
       "      <td>0</td>\n",
       "      <td>...</td>\n",
       "      <td>0</td>\n",
       "      <td>0</td>\n",
       "      <td>0</td>\n",
       "      <td>0</td>\n",
       "      <td>0</td>\n",
       "      <td>0</td>\n",
       "      <td>0</td>\n",
       "      <td>0</td>\n",
       "      <td>0</td>\n",
       "      <td>0</td>\n",
       "    </tr>\n",
       "    <tr>\n",
       "      <th>4</th>\n",
       "      <td>0</td>\n",
       "      <td>0</td>\n",
       "      <td>0</td>\n",
       "      <td>0</td>\n",
       "      <td>0</td>\n",
       "      <td>0</td>\n",
       "      <td>0</td>\n",
       "      <td>0</td>\n",
       "      <td>0</td>\n",
       "      <td>0</td>\n",
       "      <td>...</td>\n",
       "      <td>0</td>\n",
       "      <td>0</td>\n",
       "      <td>0</td>\n",
       "      <td>0</td>\n",
       "      <td>0</td>\n",
       "      <td>0</td>\n",
       "      <td>0</td>\n",
       "      <td>0</td>\n",
       "      <td>0</td>\n",
       "      <td>0</td>\n",
       "    </tr>\n",
       "  </tbody>\n",
       "</table>\n",
       "<p>5 rows × 784 columns</p>\n",
       "</div>"
      ],
      "text/plain": [
       "   pixel0  pixel1  pixel2  pixel3  pixel4  pixel5  pixel6  pixel7  pixel8  \\\n",
       "0       0       0       0       0       0       0       0       0       0   \n",
       "1       0       0       0       0       0       0       0       0       0   \n",
       "2       0       0       0       0       0       0       0       0       0   \n",
       "3       0       0       0       0       0       0       0       0       0   \n",
       "4       0       0       0       0       0       0       0       0       0   \n",
       "\n",
       "   pixel9  ...  pixel774  pixel775  pixel776  pixel777  pixel778  pixel779  \\\n",
       "0       0  ...         0         0         0         0         0         0   \n",
       "1       0  ...         0         0         0         0         0         0   \n",
       "2       0  ...         0         0         0         0         0         0   \n",
       "3       0  ...         0         0         0         0         0         0   \n",
       "4       0  ...         0         0         0         0         0         0   \n",
       "\n",
       "   pixel780  pixel781  pixel782  pixel783  \n",
       "0         0         0         0         0  \n",
       "1         0         0         0         0  \n",
       "2         0         0         0         0  \n",
       "3         0         0         0         0  \n",
       "4         0         0         0         0  \n",
       "\n",
       "[5 rows x 784 columns]"
      ]
     },
     "execution_count": 5,
     "metadata": {},
     "output_type": "execute_result"
    }
   ],
   "source": [
    "test.head()"
   ]
  },
  {
   "cell_type": "code",
   "execution_count": 6,
   "id": "30473892",
   "metadata": {
    "execution": {
     "iopub.execute_input": "2024-07-10T14:17:10.982274Z",
     "iopub.status.busy": "2024-07-10T14:17:10.981829Z",
     "iopub.status.idle": "2024-07-10T14:17:11.101960Z",
     "shell.execute_reply": "2024-07-10T14:17:11.101035Z"
    },
    "papermill": {
     "duration": 0.135158,
     "end_time": "2024-07-10T14:17:11.104783",
     "exception": false,
     "start_time": "2024-07-10T14:17:10.969625",
     "status": "completed"
    },
    "tags": []
   },
   "outputs": [],
   "source": [
    "# Extract target variable y and predictors X\n",
    "y_train = train[\"label\"]\n",
    "X_train = train.drop([\"label\"],axis = 1)"
   ]
  },
  {
   "cell_type": "code",
   "execution_count": 7,
   "id": "883fd40a",
   "metadata": {
    "execution": {
     "iopub.execute_input": "2024-07-10T14:17:11.128815Z",
     "iopub.status.busy": "2024-07-10T14:17:11.127892Z",
     "iopub.status.idle": "2024-07-10T14:17:11.146808Z",
     "shell.execute_reply": "2024-07-10T14:17:11.145801Z"
    },
    "papermill": {
     "duration": 0.033541,
     "end_time": "2024-07-10T14:17:11.149316",
     "exception": false,
     "start_time": "2024-07-10T14:17:11.115775",
     "status": "completed"
    },
    "tags": []
   },
   "outputs": [
    {
     "data": {
      "text/html": [
       "<div>\n",
       "<style scoped>\n",
       "    .dataframe tbody tr th:only-of-type {\n",
       "        vertical-align: middle;\n",
       "    }\n",
       "\n",
       "    .dataframe tbody tr th {\n",
       "        vertical-align: top;\n",
       "    }\n",
       "\n",
       "    .dataframe thead th {\n",
       "        text-align: right;\n",
       "    }\n",
       "</style>\n",
       "<table border=\"1\" class=\"dataframe\">\n",
       "  <thead>\n",
       "    <tr style=\"text-align: right;\">\n",
       "      <th></th>\n",
       "      <th>pixel0</th>\n",
       "      <th>pixel1</th>\n",
       "      <th>pixel2</th>\n",
       "      <th>pixel3</th>\n",
       "      <th>pixel4</th>\n",
       "      <th>pixel5</th>\n",
       "      <th>pixel6</th>\n",
       "      <th>pixel7</th>\n",
       "      <th>pixel8</th>\n",
       "      <th>pixel9</th>\n",
       "      <th>...</th>\n",
       "      <th>pixel774</th>\n",
       "      <th>pixel775</th>\n",
       "      <th>pixel776</th>\n",
       "      <th>pixel777</th>\n",
       "      <th>pixel778</th>\n",
       "      <th>pixel779</th>\n",
       "      <th>pixel780</th>\n",
       "      <th>pixel781</th>\n",
       "      <th>pixel782</th>\n",
       "      <th>pixel783</th>\n",
       "    </tr>\n",
       "  </thead>\n",
       "  <tbody>\n",
       "    <tr>\n",
       "      <th>0</th>\n",
       "      <td>0</td>\n",
       "      <td>0</td>\n",
       "      <td>0</td>\n",
       "      <td>0</td>\n",
       "      <td>0</td>\n",
       "      <td>0</td>\n",
       "      <td>0</td>\n",
       "      <td>0</td>\n",
       "      <td>0</td>\n",
       "      <td>0</td>\n",
       "      <td>...</td>\n",
       "      <td>0</td>\n",
       "      <td>0</td>\n",
       "      <td>0</td>\n",
       "      <td>0</td>\n",
       "      <td>0</td>\n",
       "      <td>0</td>\n",
       "      <td>0</td>\n",
       "      <td>0</td>\n",
       "      <td>0</td>\n",
       "      <td>0</td>\n",
       "    </tr>\n",
       "    <tr>\n",
       "      <th>1</th>\n",
       "      <td>0</td>\n",
       "      <td>0</td>\n",
       "      <td>0</td>\n",
       "      <td>0</td>\n",
       "      <td>0</td>\n",
       "      <td>0</td>\n",
       "      <td>0</td>\n",
       "      <td>0</td>\n",
       "      <td>0</td>\n",
       "      <td>0</td>\n",
       "      <td>...</td>\n",
       "      <td>0</td>\n",
       "      <td>0</td>\n",
       "      <td>0</td>\n",
       "      <td>0</td>\n",
       "      <td>0</td>\n",
       "      <td>0</td>\n",
       "      <td>0</td>\n",
       "      <td>0</td>\n",
       "      <td>0</td>\n",
       "      <td>0</td>\n",
       "    </tr>\n",
       "    <tr>\n",
       "      <th>2</th>\n",
       "      <td>0</td>\n",
       "      <td>0</td>\n",
       "      <td>0</td>\n",
       "      <td>0</td>\n",
       "      <td>0</td>\n",
       "      <td>0</td>\n",
       "      <td>0</td>\n",
       "      <td>0</td>\n",
       "      <td>0</td>\n",
       "      <td>0</td>\n",
       "      <td>...</td>\n",
       "      <td>0</td>\n",
       "      <td>0</td>\n",
       "      <td>0</td>\n",
       "      <td>0</td>\n",
       "      <td>0</td>\n",
       "      <td>0</td>\n",
       "      <td>0</td>\n",
       "      <td>0</td>\n",
       "      <td>0</td>\n",
       "      <td>0</td>\n",
       "    </tr>\n",
       "    <tr>\n",
       "      <th>3</th>\n",
       "      <td>0</td>\n",
       "      <td>0</td>\n",
       "      <td>0</td>\n",
       "      <td>0</td>\n",
       "      <td>0</td>\n",
       "      <td>0</td>\n",
       "      <td>0</td>\n",
       "      <td>0</td>\n",
       "      <td>0</td>\n",
       "      <td>0</td>\n",
       "      <td>...</td>\n",
       "      <td>0</td>\n",
       "      <td>0</td>\n",
       "      <td>0</td>\n",
       "      <td>0</td>\n",
       "      <td>0</td>\n",
       "      <td>0</td>\n",
       "      <td>0</td>\n",
       "      <td>0</td>\n",
       "      <td>0</td>\n",
       "      <td>0</td>\n",
       "    </tr>\n",
       "    <tr>\n",
       "      <th>4</th>\n",
       "      <td>0</td>\n",
       "      <td>0</td>\n",
       "      <td>0</td>\n",
       "      <td>0</td>\n",
       "      <td>0</td>\n",
       "      <td>0</td>\n",
       "      <td>0</td>\n",
       "      <td>0</td>\n",
       "      <td>0</td>\n",
       "      <td>0</td>\n",
       "      <td>...</td>\n",
       "      <td>0</td>\n",
       "      <td>0</td>\n",
       "      <td>0</td>\n",
       "      <td>0</td>\n",
       "      <td>0</td>\n",
       "      <td>0</td>\n",
       "      <td>0</td>\n",
       "      <td>0</td>\n",
       "      <td>0</td>\n",
       "      <td>0</td>\n",
       "    </tr>\n",
       "  </tbody>\n",
       "</table>\n",
       "<p>5 rows × 784 columns</p>\n",
       "</div>"
      ],
      "text/plain": [
       "   pixel0  pixel1  pixel2  pixel3  pixel4  pixel5  pixel6  pixel7  pixel8  \\\n",
       "0       0       0       0       0       0       0       0       0       0   \n",
       "1       0       0       0       0       0       0       0       0       0   \n",
       "2       0       0       0       0       0       0       0       0       0   \n",
       "3       0       0       0       0       0       0       0       0       0   \n",
       "4       0       0       0       0       0       0       0       0       0   \n",
       "\n",
       "   pixel9  ...  pixel774  pixel775  pixel776  pixel777  pixel778  pixel779  \\\n",
       "0       0  ...         0         0         0         0         0         0   \n",
       "1       0  ...         0         0         0         0         0         0   \n",
       "2       0  ...         0         0         0         0         0         0   \n",
       "3       0  ...         0         0         0         0         0         0   \n",
       "4       0  ...         0         0         0         0         0         0   \n",
       "\n",
       "   pixel780  pixel781  pixel782  pixel783  \n",
       "0         0         0         0         0  \n",
       "1         0         0         0         0  \n",
       "2         0         0         0         0  \n",
       "3         0         0         0         0  \n",
       "4         0         0         0         0  \n",
       "\n",
       "[5 rows x 784 columns]"
      ]
     },
     "execution_count": 7,
     "metadata": {},
     "output_type": "execute_result"
    }
   ],
   "source": [
    "X_train.head(5)"
   ]
  },
  {
   "cell_type": "code",
   "execution_count": 8,
   "id": "a07b3e1b",
   "metadata": {
    "execution": {
     "iopub.execute_input": "2024-07-10T14:17:11.173765Z",
     "iopub.status.busy": "2024-07-10T14:17:11.173067Z",
     "iopub.status.idle": "2024-07-10T14:17:11.563742Z",
     "shell.execute_reply": "2024-07-10T14:17:11.562314Z"
    },
    "papermill": {
     "duration": 0.406332,
     "end_time": "2024-07-10T14:17:11.566880",
     "exception": false,
     "start_time": "2024-07-10T14:17:11.160548",
     "status": "completed"
    },
    "tags": []
   },
   "outputs": [
    {
     "data": {
      "image/png": "[encoded data removed]",
      "text/plain": [
       "<Figure size 1000x600 with 1 Axes>"
      ]
     },
     "metadata": {},
     "output_type": "display_data"
    }
   ],
   "source": [
    "# Count the occurrences of each label\n",
    "label_counts = train['label'].value_counts().sort_index()\n",
    "\n",
    "# Create a bar plot\n",
    "plt.figure(figsize=(10, 6))\n",
    "barplot = sns.barplot(x=label_counts.index, y=label_counts.values, palette=\"viridis\")\n",
    "# Add the counts above the bars\n",
    "for i in range(len(label_counts)):\n",
    "    barplot.text(i, label_counts.values[i] + 50, label_counts.values[i], ha='center', va='bottom')\n",
    "    \n",
    "plt.title('Distribution of Labels in the Training Set')\n",
    "plt.xlabel('Label')\n",
    "plt.ylabel('Count')\n",
    "plt.xticks(rotation=0)\n",
    "plt.show()"
   ]
  },
  {
   "cell_type": "code",
   "execution_count": 9,
   "id": "e5b5329c",
   "metadata": {
    "execution": {
     "iopub.execute_input": "2024-07-10T14:17:11.594304Z",
     "iopub.status.busy": "2024-07-10T14:17:11.593161Z",
     "iopub.status.idle": "2024-07-10T14:17:11.772081Z",
     "shell.execute_reply": "2024-07-10T14:17:11.770915Z"
    },
    "papermill": {
     "duration": 0.195972,
     "end_time": "2024-07-10T14:17:11.775808",
     "exception": false,
     "start_time": "2024-07-10T14:17:11.579836",
     "status": "completed"
    },
    "tags": []
   },
   "outputs": [
    {
     "name": "stdout",
     "output_type": "stream",
     "text": [
      "28\n"
     ]
    },
    {
     "data": {
      "image/png": "[encoded data removed]",
      "text/plain": [
       "<Figure size 640x480 with 1 Axes>"
      ]
     },
     "metadata": {},
     "output_type": "display_data"
    }
   ],
   "source": [
    "# Take a look at the image\n",
    "# what is the size of the image? Take a quick math\n",
    "size = int(math.sqrt(X_train.shape[1]))\n",
    "print(size)\n",
    "\n",
    "# Now display some of the digit images\n",
    "img = X_train.iloc[5].to_numpy().reshape(28,28)\n",
    "plt.imshow(img,cmap='gray')\n",
    "plt.title(train.iloc[5,0])\n",
    "plt.axis(\"off\")\n",
    "plt.show()"
   ]
  },
  {
   "cell_type": "code",
   "execution_count": 10,
   "id": "a0e8cc51",
   "metadata": {
    "execution": {
     "iopub.execute_input": "2024-07-10T14:17:11.810940Z",
     "iopub.status.busy": "2024-07-10T14:17:11.810404Z",
     "iopub.status.idle": "2024-07-10T14:17:11.923216Z",
     "shell.execute_reply": "2024-07-10T14:17:11.922028Z"
    },
    "papermill": {
     "duration": 0.134201,
     "end_time": "2024-07-10T14:17:11.925778",
     "exception": false,
     "start_time": "2024-07-10T14:17:11.791577",
     "status": "completed"
    },
    "tags": []
   },
   "outputs": [
    {
     "data": {
      "image/png": "[encoded data removed]",
      "text/plain": [
       "<Figure size 640x480 with 1 Axes>"
      ]
     },
     "metadata": {},
     "output_type": "display_data"
    }
   ],
   "source": [
    "# Second random image\n",
    "img = X_train.iloc[15].to_numpy().reshape(28,28)\n",
    "plt.imshow(img,cmap='gray')\n",
    "plt.title(train.iloc[15,0])\n",
    "plt.axis(\"off\")\n",
    "plt.show()"
   ]
  },
  {
   "cell_type": "code",
   "execution_count": 11,
   "id": "90bb7642",
   "metadata": {
    "execution": {
     "iopub.execute_input": "2024-07-10T14:17:11.952655Z",
     "iopub.status.busy": "2024-07-10T14:17:11.952253Z",
     "iopub.status.idle": "2024-07-10T14:17:11.959803Z",
     "shell.execute_reply": "2024-07-10T14:17:11.958542Z"
    },
    "papermill": {
     "duration": 0.024598,
     "end_time": "2024-07-10T14:17:11.963119",
     "exception": false,
     "start_time": "2024-07-10T14:17:11.938521",
     "status": "completed"
    },
    "tags": []
   },
   "outputs": [
    {
     "name": "stdout",
     "output_type": "stream",
     "text": [
      "Unique values in the 16th row:\n",
      "0\n",
      "130\n",
      "4\n",
      "7\n",
      "9\n",
      "10\n",
      "13\n",
      "14\n",
      "143\n",
      "144\n",
      "146\n",
      "165\n",
      "38\n",
      "44\n",
      "45\n",
      "181\n",
      "54\n",
      "187\n",
      "188\n",
      "192\n",
      "66\n",
      "68\n",
      "73\n",
      "202\n",
      "78\n",
      "207\n",
      "208\n",
      "214\n",
      "215\n",
      "90\n",
      "92\n",
      "221\n",
      "96\n",
      "97\n",
      "231\n",
      "107\n",
      "236\n",
      "111\n",
      "249\n",
      "124\n",
      "253\n",
      "254\n",
      "255\n"
     ]
    }
   ],
   "source": [
    "# Get the 16th row (index 15)\n",
    "row = X_train.iloc[15]\n",
    "\n",
    "# Convert row to a list and then to a set to get unique values\n",
    "unique_values = set(row.tolist())\n",
    "\n",
    "# Print each unique value\n",
    "print(\"Unique values in the 16th row:\")\n",
    "for value in unique_values:\n",
    "    print(value)"
   ]
  },
  {
   "cell_type": "code",
   "execution_count": 12,
   "id": "37a246d3",
   "metadata": {
    "execution": {
     "iopub.execute_input": "2024-07-10T14:17:11.990294Z",
     "iopub.status.busy": "2024-07-10T14:17:11.989783Z",
     "iopub.status.idle": "2024-07-10T14:17:11.998747Z",
     "shell.execute_reply": "2024-07-10T14:17:11.997672Z"
    },
    "papermill": {
     "duration": 0.025104,
     "end_time": "2024-07-10T14:17:12.001146",
     "exception": false,
     "start_time": "2024-07-10T14:17:11.976042",
     "status": "completed"
    },
    "tags": []
   },
   "outputs": [
    {
     "data": {
      "text/plain": [
       "10"
      ]
     },
     "execution_count": 12,
     "metadata": {},
     "output_type": "execute_result"
    }
   ],
   "source": [
    "# How nany digits?\n",
    "y_train.nunique()"
   ]
  },
  {
   "cell_type": "code",
   "execution_count": 13,
   "id": "b9ed1b9a",
   "metadata": {
    "execution": {
     "iopub.execute_input": "2024-07-10T14:17:12.028444Z",
     "iopub.status.busy": "2024-07-10T14:17:12.027621Z",
     "iopub.status.idle": "2024-07-10T14:17:12.145940Z",
     "shell.execute_reply": "2024-07-10T14:17:12.144679Z"
    },
    "papermill": {
     "duration": 0.134838,
     "end_time": "2024-07-10T14:17:12.148520",
     "exception": false,
     "start_time": "2024-07-10T14:17:12.013682",
     "status": "completed"
    },
    "tags": []
   },
   "outputs": [
    {
     "name": "stdout",
     "output_type": "stream",
     "text": [
      "X_train shape:  (42000, 28, 28, 1)\n",
      "test shape:  (28000, 28, 28, 1)\n"
     ]
    }
   ],
   "source": [
    "# Normalize the data\n",
    "X_train = X_train / 255.0\n",
    "test = test / 255.0\n",
    "\n",
    "# CNNs expect input data in a specific format, typically as 4D tensors of shape (number_of_samples, height, width, channels). \n",
    "X_train = X_train.values.reshape(-1, 28, 28, 1)\n",
    "test = test.values.reshape(-1, 28, 28, 1)\n",
    "print(\"X_train shape: \", X_train.shape)\n",
    "print(\"test shape: \", test.shape)"
   ]
  },
  {
   "cell_type": "markdown",
   "id": "dbfbd928",
   "metadata": {
    "papermill": {
     "duration": 0.012195,
     "end_time": "2024-07-10T14:17:12.173407",
     "exception": false,
     "start_time": "2024-07-10T14:17:12.161212",
     "status": "completed"
    },
    "tags": []
   },
   "source": [
    "**Why encoding?**\n",
    "you can use to_categorical() from Keras to convert your integer class labels into one-hot encoded vectors. This is particularly useful when you have a classification problem with categorical labels, and your model's output layer expects one-hot encoded vectors. if your class starts with 0 then index 1 is class 0 but if class starts with 1 then idex 1 is just 1. The to_categorical function will one-hot encode the labels starting from the smallest class value.\n",
    "**If your class is in string format then you should use LabelEncoder**"
   ]
  },
  {
   "cell_type": "code",
   "execution_count": 14,
   "id": "269e64dd",
   "metadata": {
    "execution": {
     "iopub.execute_input": "2024-07-10T14:17:12.200269Z",
     "iopub.status.busy": "2024-07-10T14:17:12.199819Z",
     "iopub.status.idle": "2024-07-10T14:17:12.208667Z",
     "shell.execute_reply": "2024-07-10T14:17:12.207579Z"
    },
    "papermill": {
     "duration": 0.025368,
     "end_time": "2024-07-10T14:17:12.211324",
     "exception": false,
     "start_time": "2024-07-10T14:17:12.185956",
     "status": "completed"
    },
    "tags": []
   },
   "outputs": [
    {
     "data": {
      "text/plain": [
       "numpy.ndarray"
      ]
     },
     "execution_count": 14,
     "metadata": {},
     "output_type": "execute_result"
    }
   ],
   "source": [
    "# Encode the y_train labels to one-hot encoding\n",
    "y_train = to_categorical(y_train, num_classes=10)\n",
    "\n",
    "# Verify the encoding\n",
    "type(y_train)"
   ]
  },
  {
   "cell_type": "code",
   "execution_count": 15,
   "id": "ef764dfe",
   "metadata": {
    "execution": {
     "iopub.execute_input": "2024-07-10T14:17:12.239093Z",
     "iopub.status.busy": "2024-07-10T14:17:12.238175Z",
     "iopub.status.idle": "2024-07-10T14:17:12.688138Z",
     "shell.execute_reply": "2024-07-10T14:17:12.686939Z"
    },
    "papermill": {
     "duration": 0.466818,
     "end_time": "2024-07-10T14:17:12.690970",
     "exception": false,
     "start_time": "2024-07-10T14:17:12.224152",
     "status": "completed"
    },
    "tags": []
   },
   "outputs": [],
   "source": [
    "# Split the train and the validation\n",
    "X_train, X_val, y_train, y_val = train_test_split(X_train, y_train, test_size = 0.1, random_state= 2)"
   ]
  },
  {
   "cell_type": "code",
   "execution_count": 16,
   "id": "427e3117",
   "metadata": {
    "execution": {
     "iopub.execute_input": "2024-07-10T14:17:12.719192Z",
     "iopub.status.busy": "2024-07-10T14:17:12.718208Z",
     "iopub.status.idle": "2024-07-10T14:17:12.892406Z",
     "shell.execute_reply": "2024-07-10T14:17:12.890881Z"
    },
    "papermill": {
     "duration": 0.191168,
     "end_time": "2024-07-10T14:17:12.894994",
     "exception": false,
     "start_time": "2024-07-10T14:17:12.703826",
     "status": "completed"
    },
    "tags": []
   },
   "outputs": [
    {
     "name": "stderr",
     "output_type": "stream",
     "text": [
      "/opt/conda/lib/python3.10/site-packages/keras/src/layers/convolutional/base_conv.py:107: UserWarning: Do not pass an `input_shape`/`input_dim` argument to a layer. When using Sequential models, prefer using an `Input(shape)` object as the first layer in the model instead.\n",
      "  super().__init__(activity_regularizer=activity_regularizer, **kwargs)\n"
     ]
    }
   ],
   "source": [
    "# Initialize the Sequential model\n",
    "model = Sequential()\n",
    "\n",
    "# First Convolutional Layer\n",
    "# Adds a 2D convolution layer with 8 filters, each of size 5x5. \n",
    "# 'Same' padding means the output size is the same as the input size.\n",
    "# ReLU activation function is used.\n",
    "# The input shape is specified as (28, 28, 1) for the first layer (grayscale image of size 28x28).\n",
    "model.add(Conv2D(filters = 8, kernel_size = (5,5),padding = 'Same', activation ='relu', input_shape = (28,28,1)))\n",
    "\n",
    "# First Max Pooling Layer\n",
    "# Adds a max pooling layer with a pool size of 2x2. \n",
    "# This reduces the spatial dimensions (height and width) of the feature maps by half.\n",
    "model.add(MaxPool2D(pool_size=(2,2)))\n",
    "\n",
    "# First Dropout Layer\n",
    "# Adds a dropout layer with a dropout rate of 25%. \n",
    "# This helps prevent overfitting by randomly setting 25% of the input units to 0 during training.\n",
    "model.add(Dropout(0.25))\n",
    "\n",
    "# Second Convolutional Layer\n",
    "# Adds another 2D convolution layer with 16 filters, each of size 3x3.\n",
    "# 'Same' padding is used, and the ReLU activation function is applied.\n",
    "model.add(Conv2D(filters = 16, kernel_size = (3,3),padding = 'Same', \n",
    "                 activation ='relu'))\n",
    "\n",
    "# Second Max Pooling Layer\n",
    "# Adds another max pooling layer with a pool size of 2x2 and a stride of 2.\n",
    "# This further reduces the spatial dimensions of the feature maps by half.\n",
    "model.add(MaxPool2D(pool_size=(2,2), strides=(2,2)))\n",
    "\n",
    "# Second Dropout Layer\n",
    "# Adds another dropout layer with a dropout rate of 25%.\n",
    "model.add(Dropout(0.25))\n",
    "\n",
    "# Flatten Layer\n",
    "# Flattens the input, converting the 2D matrix into a 1D vector.\n",
    "# This is required before feeding the data into fully connected (dense) layers.\n",
    "model.add(Flatten())\n",
    "\n",
    "# First Fully Connected (Dense) Layer\n",
    "# Adds a dense layer with 256 units and ReLU activation.\n",
    "# This layer is fully connected, meaning each neuron is connected to every neuron in the previous layer.\n",
    "model.add(Dense(256, activation = \"relu\"))\n",
    "\n",
    "# Third Dropout Layer\n",
    "# Adds a dropout layer with a dropout rate of 50%.\n",
    "# This helps prevent overfitting by randomly setting 50% of the input units to 0 during training.\n",
    "model.add(Dropout(0.5))\n",
    "\n",
    "# Output Layer\n",
    "# Adds a dense layer with 10 units (one for each class in the dataset) and softmax activation.\n",
    "# The softmax activation function outputs a probability distribution over the 10 classes.\n",
    "model.add(Dense(10, activation = \"softmax\"))"
   ]
  },
  {
   "cell_type": "code",
   "execution_count": 17,
   "id": "3ac863bc",
   "metadata": {
    "execution": {
     "iopub.execute_input": "2024-07-10T14:17:12.923136Z",
     "iopub.status.busy": "2024-07-10T14:17:12.922173Z",
     "iopub.status.idle": "2024-07-10T14:17:12.934821Z",
     "shell.execute_reply": "2024-07-10T14:17:12.933820Z"
    },
    "papermill": {
     "duration": 0.029506,
     "end_time": "2024-07-10T14:17:12.937506",
     "exception": false,
     "start_time": "2024-07-10T14:17:12.908000",
     "status": "completed"
    },
    "tags": []
   },
   "outputs": [],
   "source": [
    "# Initialize optimizer\n",
    "optimizer = Adam(learning_rate=0.001, beta_1=0.9, beta_2=0.999)"
   ]
  },
  {
   "cell_type": "code",
   "execution_count": 18,
   "id": "e9a0c5c3",
   "metadata": {
    "execution": {
     "iopub.execute_input": "2024-07-10T14:17:12.965010Z",
     "iopub.status.busy": "2024-07-10T14:17:12.964591Z",
     "iopub.status.idle": "2024-07-10T14:17:12.975310Z",
     "shell.execute_reply": "2024-07-10T14:17:12.974340Z"
    },
    "papermill": {
     "duration": 0.027606,
     "end_time": "2024-07-10T14:17:12.978018",
     "exception": false,
     "start_time": "2024-07-10T14:17:12.950412",
     "status": "completed"
    },
    "tags": []
   },
   "outputs": [],
   "source": [
    "# Compile the model\n",
    "model.compile(optimizer = optimizer , loss = \"categorical_crossentropy\", metrics=[\"accuracy\"])"
   ]
  },
  {
   "cell_type": "code",
   "execution_count": 19,
   "id": "3555fc3a",
   "metadata": {
    "execution": {
     "iopub.execute_input": "2024-07-10T14:17:13.005797Z",
     "iopub.status.busy": "2024-07-10T14:17:13.005033Z",
     "iopub.status.idle": "2024-07-10T14:17:13.104182Z",
     "shell.execute_reply": "2024-07-10T14:17:13.102942Z"
    },
    "papermill": {
     "duration": 0.116113,
     "end_time": "2024-07-10T14:17:13.106966",
     "exception": false,
     "start_time": "2024-07-10T14:17:12.990853",
     "status": "completed"
    },
    "tags": []
   },
   "outputs": [],
   "source": [
    "# Create an instance of ImageDataGenerator for data augmentation\n",
    "datagen = ImageDataGenerator(\n",
    "    featurewise_center=False,  # Do not set input mean to 0 over the dataset\n",
    "    samplewise_center=False,   # Do not set each sample mean to 0\n",
    "    featurewise_std_normalization=False,  # Do not divide inputs by std of the dataset\n",
    "    samplewise_std_normalization=False,   # Do not divide each input by its std\n",
    "    zca_whitening=False,  # Do not apply ZCA whitening\n",
    "    rotation_range=5,     # Randomly rotate images in the range (degrees, 0 to 5)\n",
    "    zoom_range=0.1,       # Randomly zoom image by 10%\n",
    "    width_shift_range=0.1,  # Randomly shift images horizontally by 10% of total width\n",
    "    height_shift_range=0.1, # Randomly shift images vertically by 10% of total height\n",
    "    horizontal_flip=False,  # Do not randomly flip images horizontally\n",
    "    vertical_flip=False    # Do not randomly flip images vertically\n",
    ")\n",
    "\n",
    "# Fit the ImageDataGenerator on the training data\n",
    "datagen.fit(X_train)"
   ]
  },
  {
   "cell_type": "code",
   "execution_count": 20,
   "id": "ca4f2409",
   "metadata": {
    "execution": {
     "iopub.execute_input": "2024-07-10T14:17:13.135034Z",
     "iopub.status.busy": "2024-07-10T14:17:13.134623Z",
     "iopub.status.idle": "2024-07-10T14:17:13.140437Z",
     "shell.execute_reply": "2024-07-10T14:17:13.139251Z"
    },
    "papermill": {
     "duration": 0.022408,
     "end_time": "2024-07-10T14:17:13.142892",
     "exception": false,
     "start_time": "2024-07-10T14:17:13.120484",
     "status": "completed"
    },
    "tags": []
   },
   "outputs": [],
   "source": [
    "# Suppose you have a dataset of 1000 observations. You have a batch size of 50, \n",
    "# you have set to run 10 epochs. In each epoch, you have 20 batches (1000/50 = 20). \n",
    "# Each batch gets passed through the algorithm, therefore you have 20 iterations per epoch.\n",
    "# Define batch size and steps per epoch\n",
    "epochs = 10\n",
    "batch_size = 250\n",
    "steps_per_epoch = X_train.shape[0] // batch_size\n"
   ]
  },
  {
   "cell_type": "markdown",
   "id": "b44f65e4",
   "metadata": {
    "papermill": {
     "duration": 0.012821,
     "end_time": "2024-07-10T14:17:13.168508",
     "exception": false,
     "start_time": "2024-07-10T14:17:13.155687",
     "status": "completed"
    },
    "tags": []
   },
   "source": [
    "# **Warning**\n",
    "**You may take a look at the below code for warning message \"Make sure that your dataset or generator can generate at least `steps_per_epoch * epochs` batches. You may need to use the `.repeat()` function when building your dataset.\" I ask Chatgpt for possible cause like incorrect steps_per_epoch but I dont think it is the reason for my code here and if someone can help me figure it out then I really appreciate! :)**"
   ]
  },
  {
   "cell_type": "code",
   "execution_count": 21,
   "id": "2571fc12",
   "metadata": {
    "execution": {
     "iopub.execute_input": "2024-07-10T14:17:13.195947Z",
     "iopub.status.busy": "2024-07-10T14:17:13.195540Z",
     "iopub.status.idle": "2024-07-10T14:17:13.201455Z",
     "shell.execute_reply": "2024-07-10T14:17:13.200267Z"
    },
    "papermill": {
     "duration": 0.022583,
     "end_time": "2024-07-10T14:17:13.203894",
     "exception": false,
     "start_time": "2024-07-10T14:17:13.181311",
     "status": "completed"
    },
    "tags": []
   },
   "outputs": [],
   "source": [
    "# # Create a generator function\n",
    "# def generator():\n",
    "#     for X_batch, y_batch in datagen.flow(X_train, y_train, batch_size=batch_size):\n",
    "#         yield X_batch, y_batch\n",
    "\n",
    "# # Define the batch size and epochs\n",
    "# batch_size = 250\n",
    "# epochs = 10\n",
    "\n",
    "# # Create a TensorFlow dataset from the generator\n",
    "# dataset = tf.data.Dataset.from_generator(generator,\n",
    "#                                          output_signature=(\n",
    "#                                              tf.TensorSpec(shape=(None, 28, 28, 1), dtype=tf.float32), # Image batch with dynamic batch size\n",
    "#                                              tf.TensorSpec(shape=(None,), dtype=tf.int32) # Label batch with dynamic batch size\n",
    "#                                          ))\n",
    "\n",
    "# # Apply batching and repeating\n",
    "# dataset = dataset.repeat().batch(batch_size)\n",
    "\n",
    "# # Calculate the number of steps per epoch\n",
    "# steps_per_epoch = (len(X_train) + batch_size - 1) // batch_size"
   ]
  },
  {
   "cell_type": "markdown",
   "id": "9ff7a287",
   "metadata": {
    "papermill": {
     "duration": 0.012569,
     "end_time": "2024-07-10T14:17:13.229488",
     "exception": false,
     "start_time": "2024-07-10T14:17:13.216919",
     "status": "completed"
    },
    "tags": []
   },
   "source": [
    "**Uncomment the first CNN code if you wanna use above code snippet**"
   ]
  },
  {
   "cell_type": "code",
   "execution_count": 22,
   "id": "10473488",
   "metadata": {
    "execution": {
     "iopub.execute_input": "2024-07-10T14:17:13.257578Z",
     "iopub.status.busy": "2024-07-10T14:17:13.256730Z",
     "iopub.status.idle": "2024-07-10T14:18:49.367340Z",
     "shell.execute_reply": "2024-07-10T14:18:49.366024Z"
    },
    "papermill": {
     "duration": 96.127655,
     "end_time": "2024-07-10T14:18:49.370042",
     "exception": false,
     "start_time": "2024-07-10T14:17:13.242387",
     "status": "completed"
    },
    "tags": []
   },
   "outputs": [
    {
     "name": "stdout",
     "output_type": "stream",
     "text": [
      "Epoch 1/10\n"
     ]
    },
    {
     "name": "stderr",
     "output_type": "stream",
     "text": [
      "/opt/conda/lib/python3.10/site-packages/keras/src/trainers/data_adapters/py_dataset_adapter.py:121: UserWarning: Your `PyDataset` class should call `super().__init__(**kwargs)` in its constructor. `**kwargs` can include `workers`, `use_multiprocessing`, `max_queue_size`. Do not pass these arguments to `fit()`, as they will be ignored.\n",
      "  self._warn_if_super_not_called()\n"
     ]
    },
    {
     "name": "stdout",
     "output_type": "stream",
     "text": [
      "\u001b[1m151/151\u001b[0m \u001b[32m━━━━━━━━━━━━━━━━━━━━\u001b[0m\u001b[37m\u001b[0m \u001b[1m20s\u001b[0m 119ms/step - accuracy: 0.4620 - loss: 1.5487 - val_accuracy: 0.9421 - val_loss: 0.2277\n",
      "Epoch 2/10\n",
      "\u001b[1m  1/151\u001b[0m \u001b[37m━━━━━━━━━━━━━━━━━━━━\u001b[0m \u001b[1m9s\u001b[0m 64ms/step - accuracy: 0.8120 - loss: 0.6320"
     ]
    },
    {
     "name": "stderr",
     "output_type": "stream",
     "text": [
      "/opt/conda/lib/python3.10/contextlib.py:153: UserWarning: Your input ran out of data; interrupting training. Make sure that your dataset or generator can generate at least `steps_per_epoch * epochs` batches. You may need to use the `.repeat()` function when building your dataset.\n",
      "  self.gen.throw(typ, value, traceback)\n"
     ]
    },
    {
     "name": "stdout",
     "output_type": "stream",
     "text": [
      "\u001b[1m151/151\u001b[0m \u001b[32m━━━━━━━━━━━━━━━━━━━━\u001b[0m\u001b[37m\u001b[0m \u001b[1m1s\u001b[0m 5ms/step - accuracy: 0.8120 - loss: 0.6320 - val_accuracy: 0.9424 - val_loss: 0.2262\n",
      "Epoch 3/10\n",
      "\u001b[1m151/151\u001b[0m \u001b[32m━━━━━━━━━━━━━━━━━━━━\u001b[0m\u001b[37m\u001b[0m \u001b[1m18s\u001b[0m 115ms/step - accuracy: 0.8411 - loss: 0.4935 - val_accuracy: 0.9633 - val_loss: 0.1264\n",
      "Epoch 4/10\n",
      "\u001b[1m151/151\u001b[0m \u001b[32m━━━━━━━━━━━━━━━━━━━━\u001b[0m\u001b[37m\u001b[0m \u001b[1m1s\u001b[0m 5ms/step - accuracy: 0.8760 - loss: 0.3830 - val_accuracy: 0.9645 - val_loss: 0.1261\n",
      "Epoch 5/10\n",
      "\u001b[1m151/151\u001b[0m \u001b[32m━━━━━━━━━━━━━━━━━━━━\u001b[0m\u001b[37m\u001b[0m \u001b[1m18s\u001b[0m 114ms/step - accuracy: 0.8934 - loss: 0.3344 - val_accuracy: 0.9679 - val_loss: 0.0999\n",
      "Epoch 6/10\n",
      "\u001b[1m151/151\u001b[0m \u001b[32m━━━━━━━━━━━━━━━━━━━━\u001b[0m\u001b[37m\u001b[0m \u001b[1m1s\u001b[0m 5ms/step - accuracy: 0.9120 - loss: 0.2922 - val_accuracy: 0.9664 - val_loss: 0.1037\n",
      "Epoch 7/10\n",
      "\u001b[1m151/151\u001b[0m \u001b[32m━━━━━━━━━━━━━━━━━━━━\u001b[0m\u001b[37m\u001b[0m \u001b[1m18s\u001b[0m 115ms/step - accuracy: 0.9149 - loss: 0.2719 - val_accuracy: 0.9750 - val_loss: 0.0838\n",
      "Epoch 8/10\n",
      "\u001b[1m151/151\u001b[0m \u001b[32m━━━━━━━━━━━━━━━━━━━━\u001b[0m\u001b[37m\u001b[0m \u001b[1m1s\u001b[0m 5ms/step - accuracy: 0.9200 - loss: 0.2592 - val_accuracy: 0.9750 - val_loss: 0.0834\n",
      "Epoch 9/10\n",
      "\u001b[1m151/151\u001b[0m \u001b[32m━━━━━━━━━━━━━━━━━━━━\u001b[0m\u001b[37m\u001b[0m \u001b[1m18s\u001b[0m 114ms/step - accuracy: 0.9222 - loss: 0.2480 - val_accuracy: 0.9755 - val_loss: 0.0767\n",
      "Epoch 10/10\n",
      "\u001b[1m151/151\u001b[0m \u001b[32m━━━━━━━━━━━━━━━━━━━━\u001b[0m\u001b[37m\u001b[0m \u001b[1m1s\u001b[0m 5ms/step - accuracy: 0.9360 - loss: 0.2004 - val_accuracy: 0.9760 - val_loss: 0.0763\n"
     ]
    },
    {
     "data": {
      "text/plain": [
       "<keras.src.callbacks.history.History at 0x78832c1cbbe0>"
      ]
     },
     "execution_count": 22,
     "metadata": {},
     "output_type": "execute_result"
    }
   ],
   "source": [
    "# Train the model\n",
    "\n",
    "# model.fit(dataset, epochs=epochs, validation_data=(X_val, y_val), steps_per_epoch=steps_per_epoch)\n",
    "\n",
    "\n",
    "model.fit(datagen.flow(X_train, y_train, batch_size = batch_size), epochs = epochs, validation_data = (X_val, y_val), \n",
    "               steps_per_epoch = steps_per_epoch)"
   ]
  },
  {
   "cell_type": "code",
   "execution_count": 23,
   "id": "05108cb5",
   "metadata": {
    "execution": {
     "iopub.execute_input": "2024-07-10T14:18:49.544746Z",
     "iopub.status.busy": "2024-07-10T14:18:49.544325Z",
     "iopub.status.idle": "2024-07-10T14:18:51.209499Z",
     "shell.execute_reply": "2024-07-10T14:18:51.208217Z"
    },
    "papermill": {
     "duration": 1.755709,
     "end_time": "2024-07-10T14:18:51.212396",
     "exception": false,
     "start_time": "2024-07-10T14:18:49.456687",
     "status": "completed"
    },
    "tags": []
   },
   "outputs": [
    {
     "name": "stdout",
     "output_type": "stream",
     "text": [
      "\u001b[1m132/132\u001b[0m \u001b[32m━━━━━━━━━━━━━━━━━━━━\u001b[0m\u001b[37m\u001b[0m \u001b[1m1s\u001b[0m 6ms/step\n"
     ]
    },
    {
     "data": {
      "image/png": "[encoded data removed]",
      "text/plain": [
       "<Figure size 800x800 with 2 Axes>"
      ]
     },
     "metadata": {},
     "output_type": "display_data"
    }
   ],
   "source": [
    "# confusion matrix\n",
    "\n",
    "# Predict the values from the validation dataset\n",
    "y_pred = model.predict(X_val)\n",
    "\n",
    "# Convert predictions classes to one hot vectors \n",
    "y_pred_classes = np.argmax(y_pred,axis = 1) \n",
    "\n",
    "# Convert validation observations to one hot vectors\n",
    "y_true = np.argmax(y_val,axis = 1) \n",
    "\n",
    "# compute the confusion matrix\n",
    "confusion_mtx = confusion_matrix(y_true, y_pred_classes) \n",
    "\n",
    "# plot the confusion matrix\n",
    "figure,ax = plt.subplots(figsize=(8, 8))\n",
    "sns.heatmap(confusion_mtx, annot=True, linewidths=0.01,linecolor=\"gray\", fmt= '.1f',ax=ax)\n",
    "plt.xlabel(\"Predicted Label\")\n",
    "plt.ylabel(\"True Label\")\n",
    "plt.title(\"Confusion Matrix\")\n",
    "plt.show()"
   ]
  },
  {
   "cell_type": "code",
   "execution_count": 24,
   "id": "4d5a8d55",
   "metadata": {
    "execution": {
     "iopub.execute_input": "2024-07-10T14:18:51.457907Z",
     "iopub.status.busy": "2024-07-10T14:18:51.457435Z",
     "iopub.status.idle": "2024-07-10T14:18:57.286464Z",
     "shell.execute_reply": "2024-07-10T14:18:57.285394Z"
    },
    "papermill": {
     "duration": 5.922324,
     "end_time": "2024-07-10T14:18:57.289281",
     "exception": false,
     "start_time": "2024-07-10T14:18:51.366957",
     "status": "completed"
    },
    "tags": []
   },
   "outputs": [
    {
     "name": "stdout",
     "output_type": "stream",
     "text": [
      "\u001b[1m875/875\u001b[0m \u001b[32m━━━━━━━━━━━━━━━━━━━━\u001b[0m\u001b[37m\u001b[0m \u001b[1m5s\u001b[0m 6ms/step\n"
     ]
    }
   ],
   "source": [
    "# Use our trained model to predict test\n",
    "\n",
    "# Predict the values from the test dataset\n",
    "y_test = model.predict(test)\n",
    "\n",
    "# Convert predictions classes to one hot vectors\n",
    "y_test_classes = np.argmax(y_test,axis = 1)\n",
    "\n",
    "# Create the output file\n",
    "submission = pd.DataFrame({\"ImageId\":range(1, len(test)+1), \"Label\": y_test_classes})\n",
    "\n",
    "# save the output\n",
    "submission.to_csv('submission.csv',index = False)\n",
    "                           "
   ]
  },
  {
   "cell_type": "code",
   "execution_count": 25,
   "id": "e3664729",
   "metadata": {
    "execution": {
     "iopub.execute_input": "2024-07-10T14:18:57.489674Z",
     "iopub.status.busy": "2024-07-10T14:18:57.489241Z",
     "iopub.status.idle": "2024-07-10T14:18:57.500464Z",
     "shell.execute_reply": "2024-07-10T14:18:57.499372Z"
    },
    "papermill": {
     "duration": 0.113621,
     "end_time": "2024-07-10T14:18:57.502906",
     "exception": false,
     "start_time": "2024-07-10T14:18:57.389285",
     "status": "completed"
    },
    "tags": []
   },
   "outputs": [
    {
     "data": {
      "text/html": [
       "<div>\n",
       "<style scoped>\n",
       "    .dataframe tbody tr th:only-of-type {\n",
       "        vertical-align: middle;\n",
       "    }\n",
       "\n",
       "    .dataframe tbody tr th {\n",
       "        vertical-align: top;\n",
       "    }\n",
       "\n",
       "    .dataframe thead th {\n",
       "        text-align: right;\n",
       "    }\n",
       "</style>\n",
       "<table border=\"1\" class=\"dataframe\">\n",
       "  <thead>\n",
       "    <tr style=\"text-align: right;\">\n",
       "      <th></th>\n",
       "      <th>ImageId</th>\n",
       "      <th>Label</th>\n",
       "    </tr>\n",
       "  </thead>\n",
       "  <tbody>\n",
       "    <tr>\n",
       "      <th>0</th>\n",
       "      <td>1</td>\n",
       "      <td>2</td>\n",
       "    </tr>\n",
       "    <tr>\n",
       "      <th>1</th>\n",
       "      <td>2</td>\n",
       "      <td>0</td>\n",
       "    </tr>\n",
       "    <tr>\n",
       "      <th>2</th>\n",
       "      <td>3</td>\n",
       "      <td>9</td>\n",
       "    </tr>\n",
       "    <tr>\n",
       "      <th>3</th>\n",
       "      <td>4</td>\n",
       "      <td>0</td>\n",
       "    </tr>\n",
       "    <tr>\n",
       "      <th>4</th>\n",
       "      <td>5</td>\n",
       "      <td>3</td>\n",
       "    </tr>\n",
       "  </tbody>\n",
       "</table>\n",
       "</div>"
      ],
      "text/plain": [
       "   ImageId  Label\n",
       "0        1      2\n",
       "1        2      0\n",
       "2        3      9\n",
       "3        4      0\n",
       "4        5      3"
      ]
     },
     "execution_count": 25,
     "metadata": {},
     "output_type": "execute_result"
    }
   ],
   "source": [
    "# Take a look at our submission\n",
    "submission.head(5)"
   ]
  },
  {
   "cell_type": "markdown",
   "id": "b31dbc29",
   "metadata": {
    "papermill": {
     "duration": 0.1026,
     "end_time": "2024-07-10T14:18:57.704405",
     "exception": false,
     "start_time": "2024-07-10T14:18:57.601805",
     "status": "completed"
    },
    "tags": []
   },
   "source": [
    "# **Reference:**<br>\n",
    "This notebook is based on https://www.kaggle.com/code/kanncaa1/convolutional-neural-network-cnn-tutorial. <br>\n",
    "I did some modification:\n",
    "1. as_matrix() is already deprecated. Check here https://pandas.pydata.org/pandas-docs/version/0.25.1/reference/api/pandas.DataFrame.as_matrix.html \n",
    "2. Add some useful comments for why to use to_categorical() and when to use LabelEncoder\n",
    "3. Some possible solution for the [warning](#Warning)"
   ]
  }
 ],
 "metadata": {
  "kaggle": {
   "accelerator": "none",
   "dataSources": [
    {
     "databundleVersionId": 861823,
     "sourceId": 3004,
     "sourceType": "competition"
    }
   ],
   "dockerImageVersionId": 30715,
   "isGpuEnabled": false,
   "isInternetEnabled": true,
   "language": "python",
   "sourceType": "notebook"
  },
  "kernelspec": {
   "display_name": "Python 3",
   "language": "python",
   "name": "python3"
  },
  "language_info": {
   "codemirror_mode": {
    "name": "ipython",
    "version": 3
   },
   "file_extension": ".py",
   "mimetype": "text/x-python",
   "name": "python",
   "nbconvert_exporter": "python",
   "pygments_lexer": "ipython3",
   "version": "3.10.13"
  },
  "papermill": {
   "default_parameters": {},
   "duration": 135.133448,
   "end_time": "2024-07-10T14:18:59.531106",
   "environment_variables": {},
   "exception": null,
   "input_path": "__notebook__.ipynb",
   "output_path": "__notebook__.ipynb",
   "parameters": {},
   "start_time": "2024-07-10T14:16:44.397658",
   "version": "2.5.0"
  }
 },
 "nbformat": 4,
 "nbformat_minor": 5
}
